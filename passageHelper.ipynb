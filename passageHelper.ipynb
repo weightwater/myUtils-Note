{
 "cells": [
  {
   "cell_type": "code",
   "execution_count": 20,
   "metadata": {},
   "outputs": [],
   "source": [
    "pdfString = \"\"\"\n",
    "Each of the 13 motor items comprising the FIM has a maximum level\n",
    "score of 7. Use code 0 for the Self Care, Transfers and Locomotion items\n",
    "during the admission assessment only. At discharge, all items have a\n",
    "minimum score of 1.\n",
    "\"\"\""
   ]
  },
  {
   "cell_type": "code",
   "execution_count": 21,
   "metadata": {},
   "outputs": [
    {
     "name": "stdout",
     "output_type": "stream",
     "text": [
      " Each of the 13 motor items comprising the FIM has a maximum level score of 7. Use code 0 for the Self Care, Transfers and Locomotion items during the admission assessment only. At discharge, all items have a minimum score of 1. \n"
     ]
    }
   ],
   "source": [
    "# 换行符替代 '\\n' ascii 第10个字符\n",
    "print(' '.join(pdfString.split('\\n')))"
   ]
  },
  {
   "cell_type": "code",
   "execution_count": 3,
   "metadata": {},
   "outputs": [],
   "source": [
    "ASIAsensorysubplotVar = '1439 ALTSubRR 1468 ALTSubLR 1498 APPSubRR 1527 APPSubLR 1557 ALTSubRD 1586 ALTSubLD 1616 APPSubRD 1645 APPSubLD'"
   ]
  },
  {
   "cell_type": "code",
   "execution_count": 25,
   "metadata": {},
   "outputs": [
    {
     "name": "stdout",
     "output_type": "stream",
     "text": [
      "16\n",
      "1439 ALTSubRR 1468 ALTSubLR 1498 APPSubRR 1527 APPSubLR 1557 ALTSubRD 1586 ALTSubLD 1616 APPSubRD 1645 APPSubLD\n"
     ]
    }
   ],
   "source": [
    "s = ASIAsensorysubplotVar.split(' ')\n",
    "print(len(s))\n",
    "print(' '.join(s))"
   ]
  },
  {
   "cell_type": "code",
   "execution_count": null,
   "metadata": {},
   "outputs": [],
   "source": []
  }
 ],
 "metadata": {
  "kernelspec": {
   "display_name": "Python 3.9.12 ('base')",
   "language": "python",
   "name": "python3"
  },
  "language_info": {
   "codemirror_mode": {
    "name": "ipython",
    "version": 3
   },
   "file_extension": ".py",
   "mimetype": "text/x-python",
   "name": "python",
   "nbconvert_exporter": "python",
   "pygments_lexer": "ipython3",
   "version": "3.9.12"
  },
  "orig_nbformat": 4,
  "vscode": {
   "interpreter": {
    "hash": "38cca0c38332a56087b24af0bc80247f4fced29cb4f7f437d91dc159adec9c4e"
   }
  }
 },
 "nbformat": 4,
 "nbformat_minor": 2
}
